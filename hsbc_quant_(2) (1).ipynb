{
 "cells": [
  {
   "cell_type": "markdown",
   "metadata": {
    "colab_type": "text",
    "id": "UToXdVW_5_zA"
   },
   "source": [
    "<h1 id=\"tocheading\">Table of Contents</h1>\n",
    "<div id=\"toc\"></div>\n",
    "\n"
   ]
  },
  {
   "cell_type": "code",
   "execution_count": 3,
   "metadata": {
    "colab": {
     "autoexec": {
      "startup": false,
      "wait_interval": 0
     }
    },
    "colab_type": "code",
    "id": "jHPnJJr04HA_"
   },
   "outputs": [
    {
     "data": {
      "application/javascript": [
       "$.getScript('https://kmahelona.github.io/ipython_notebook_goodies/ipython_notebook_toc.js')"
      ],
      "text/plain": [
       "<IPython.core.display.Javascript object>"
      ]
     },
     "metadata": {},
     "output_type": "display_data"
    }
   ],
   "source": [
    "\n",
    "%%javascript\n",
    "$.getScript('https://kmahelona.github.io/ipython_notebook_goodies/ipython_notebook_toc.js')\n"
   ]
  },
  {
   "cell_type": "markdown",
   "metadata": {
    "colab_type": "text",
    "id": "s_7CZ_jI4HBW"
   },
   "source": [
    "Creating the enviornment to load the file on the google drive and reading the file in the variable **prices_raw**\n"
   ]
  },
  {
   "cell_type": "code",
   "execution_count": 0,
   "metadata": {
    "colab": {
     "autoexec": {
      "startup": false,
      "wait_interval": 0
     }
    },
    "colab_type": "code",
    "id": "oUMq0E5F4kFP"
   },
   "outputs": [],
   "source": [
    "import pandas as pd\n",
    "import numpy as np\n",
    "prices_raw = pd.read_excel('exported.xslx')"
   ]
  },
  {
   "cell_type": "code",
   "execution_count": 0,
   "metadata": {
    "colab": {
     "autoexec": {
      "startup": false,
      "wait_interval": 0
     }
    },
    "colab_type": "code",
    "id": "cCkL86h34kFT"
   },
   "outputs": [],
   "source": [
    "prices_raw.shape\n"
   ]
  },
  {
   "cell_type": "markdown",
   "metadata": {},
   "source": [
    "## Preprocessing & exploration"
   ]
  },
  {
   "cell_type": "code",
   "execution_count": 0,
   "metadata": {
    "colab": {
     "autoexec": {
      "startup": false,
      "wait_interval": 0
     }
    },
    "colab_type": "code",
    "id": "rva4O-hp4kFY"
   },
   "outputs": [],
   "source": [
    "# parse timestamps correctly\n",
    "for t in [u'date' , u'ebsMarketUpdateTime', u'feedHandlerPublishTime', u'feedHandlerReceiveTime', u'eventCaptureTime']:\n",
    "    prices_raw[t] = pd.to_datetime(prices_raw[t])\n",
    "    \n",
    "print(\"First three rows of raw data\")\n",
    "prices_raw.head(3)"
   ]
  },
  {
   "cell_type": "code",
   "execution_count": 0,
   "metadata": {
    "colab": {
     "autoexec": {
      "startup": false,
      "wait_interval": 0
     }
    },
    "colab_type": "code",
    "id": "CwMlDzIW4HCK"
   },
   "outputs": [],
   "source": []
  },
  {
   "cell_type": "code",
   "execution_count": 0,
   "metadata": {
    "colab": {
     "autoexec": {
      "startup": false,
      "wait_interval": 0
     }
    },
    "colab_type": "code",
    "id": "vl-ysH8t4kFc"
   },
   "outputs": [],
   "source": [
    "# creating various time related variable \n",
    "prices_raw[\"DayOfMonth\"] = prices_raw[\"feedHandlerReceiveTime\"].apply(lambda x: x.day)\n",
    "prices_raw[\"Hour\"]       = prices_raw[\"feedHandlerReceiveTime\"].apply(lambda x: x.hour)\n",
    "prices_raw[\"Minutes\"]    = prices_raw[\"feedHandlerReceiveTime\"].apply(lambda x: x.minute)\n",
    "prices_raw[\"Seconds\"]    = prices_raw[\"feedHandlerReceiveTime\"].apply(lambda x: x.second)\n",
    "prices_raw[\"WeekDay\"]    = prices_raw[\"feedHandlerReceiveTime\"].apply(lambda x: x.weekday())\n",
    "prices_raw[\"DayOfYear\"]  = prices_raw[\"feedHandlerReceiveTime\"].apply(lambda x: x.timetuple().tm_yday)\n",
    "prices_raw[\"time_diff\"]   = prices_raw[\"feedHandlerReceiveTime\"] - prices_raw[\"feedHandlerReceiveTime\"].shift(1)"
   ]
  },
  {
   "cell_type": "code",
   "execution_count": 0,
   "metadata": {
    "colab": {
     "autoexec": {
      "startup": false,
      "wait_interval": 0
     }
    },
    "colab_type": "code",
    "id": "uam4JZGk4kFe"
   },
   "outputs": [],
   "source": [
    "prices_raw.head()"
   ]
  },
  {
   "cell_type": "code",
   "execution_count": 0,
   "metadata": {
    "colab": {
     "autoexec": {
      "startup": false,
      "wait_interval": 0
     }
    },
    "colab_type": "code",
    "id": "4uWSIvM4x7W-"
   },
   "outputs": [],
   "source": [
    "# function to extract the total seconds from a timedelta object \n",
    "def convert_time_to_number(time_delta):\n",
    "  return time_delta.total_seconds()"
   ]
  },
  {
   "cell_type": "code",
   "execution_count": 0,
   "metadata": {
    "colab": {
     "autoexec": {
      "startup": false,
      "wait_interval": 0
     }
    },
    "colab_type": "code",
    "id": "gHFIkjIlyf11"
   },
   "outputs": [],
   "source": [
    "# creating a consecutive time difference column \n",
    "prices_raw[\"time_diff\"] = prices_raw[\"time_diff\"].apply(convert_time_to_number)"
   ]
  },
  {
   "cell_type": "code",
   "execution_count": 0,
   "metadata": {
    "colab": {
     "autoexec": {
      "startup": false,
      "wait_interval": 0
     }
    },
    "colab_type": "code",
    "id": "yol-5S6Lzf91"
   },
   "outputs": [],
   "source": [
    "# set the first value of this column to zero\n",
    "prices_raw[\"time_diff\"][0] = 0.0\n",
    "# next we creat elapsed time variable which is defined as the total time elapsed from the beginning \n",
    "prices_raw[\"elapsed_time\"] = prices_raw[\"time_diff\"].cumsum()\n",
    "# We also consider the square of the elpased time \n",
    "prices_raw[\"elapsed_time_sq\"] = prices_raw[\"elapsed_time\"]**2\n",
    "prices_raw.head()"
   ]
  },
  {
   "cell_type": "code",
   "execution_count": 0,
   "metadata": {
    "colab": {
     "autoexec": {
      "startup": false,
      "wait_interval": 0
     }
    },
    "colab_type": "code",
    "id": "P2ExkeTI4kFh"
   },
   "outputs": [],
   "source": [
    "prices = prices_raw[['DayOfMonth','Hour','WeekDay','Minutes','Seconds','time_diff','elapsed_time','elapsed_time_sq',\n",
    "                     'date','bid','ask','bid2','ask2','bidSize1','askSize1','bidSize2','askSize2','paid', 'given']]\n",
    "\n",
    "prices['bid'] = prices['bid'].replace(0,np.NaN)\n",
    "prices['ask'] = prices['ask'].replace(0,np.NaN)\n",
    "prices['bid2'] = prices['bid2'].replace(0,np.NaN)\n",
    "prices['ask2'] = prices['ask2'].replace(0,np.NaN)\n",
    "\n",
    "prices['paid'] = prices['paid'].replace(0,np.NaN)\n",
    "prices['given'] = prices['given'].replace(0,np.NaN)\n",
    "prices['mid'] =  prices['ask']\n",
    "prices['mid'] = 0.5*(prices['bid'] + prices['mid'])\n",
    "\n",
    "prices.index = prices_raw.feedHandlerReceiveTime"
   ]
  },
  {
   "cell_type": "code",
   "execution_count": 0,
   "metadata": {
    "colab": {
     "autoexec": {
      "startup": false,
      "wait_interval": 0
     }
    },
    "colab_type": "code",
    "id": "U8Cg6N874kFj"
   },
   "outputs": [],
   "source": [
    "prices.head()"
   ]
  },
  {
   "cell_type": "code",
   "execution_count": 0,
   "metadata": {
    "colab": {
     "autoexec": {
      "startup": false,
      "wait_interval": 0
     }
    },
    "colab_type": "code",
    "id": "sg3_KG9I4kFm"
   },
   "outputs": [],
   "source": [
    "prices=prices.drop_duplicates()"
   ]
  },
  {
   "cell_type": "code",
   "execution_count": 0,
   "metadata": {
    "colab": {
     "autoexec": {
      "startup": false,
      "wait_interval": 0
     }
    },
    "colab_type": "code",
    "id": "20q-9Hpo4kFo"
   },
   "outputs": [],
   "source": [
    "import matplotlib.pyplot as plt\n",
    "import seaborn as sns\n",
    "sns.set(style=\"whitegrid\", color_codes=True)\n",
    "%matplotlib inline\n",
    "\n",
    "pd.options.mode.chained_assignment = None\n",
    "pd.options.display.max_columns = 100\n",
    "\n",
    "from_date = '2017.09.15'\n",
    "to_date = '2017.09.30'\n",
    "start_time = '03:00'\n",
    "end_time = '15:00'\n",
    "\n",
    "sym = '`USDINR'\n",
    "site = \"`LOH\"\n",
    "\n",
    "date = '2017.09.15'\n",
    "prices['date'] = pd.to_datetime(prices.date)\n",
    "prices[['mid']].plot(figsize=(15,5), title=sym+ ' mid timeserie '+date)\n",
    "plt.show()"
   ]
  },
  {
   "cell_type": "code",
   "execution_count": 0,
   "metadata": {
    "colab": {
     "autoexec": {
      "startup": false,
      "wait_interval": 0
     }
    },
    "colab_type": "code",
    "id": "L4ZhvJbm4kFq"
   },
   "outputs": [],
   "source": [
    "columns = ['bid','ask','bid2','ask2','bidSize1','askSize1','bidSize2','askSize2','mid']\n",
    "prices_delta = prices[columns] - prices[columns].shift(1)\n",
    "prices_delta.rename(columns = {'mid':'deltaMid','bid':'deltaBid','ask':'deltaAsk','bidSize1':'deltaBidSize1','askSize1':'deltaAskSize1',\n",
    "                              'bidSize2':'deltaBidSize2','askSize2':'deltaAskSize2'}, inplace=True)\n",
    "\n",
    "# add back old prices, and a midDiff for learning later\n",
    "LL = ['mid','bid','ask','bidSize1','bidSize2','askSize1','askSize2']\n",
    "prices_delta[LL] = prices[LL]\n",
    "prices_delta['midDiffInterval'] = (prices_delta['deltaMid'] != 0).cumsum()"
   ]
  },
  {
   "cell_type": "code",
   "execution_count": 0,
   "metadata": {
    "colab": {
     "autoexec": {
      "startup": false,
      "wait_interval": 0
     }
    },
    "colab_type": "code",
    "id": "zqi23co34kFs"
   },
   "outputs": [],
   "source": [
    "add_col = ['DayOfMonth','Hour','WeekDay','Minutes','Seconds','time_diff','elapsed_time', 'elapsed_time_sq']\n",
    "prices_delta[add_col] = prices[add_col]"
   ]
  },
  {
   "cell_type": "code",
   "execution_count": 0,
   "metadata": {
    "colab": {
     "autoexec": {
      "startup": false,
      "wait_interval": 0
     }
    },
    "colab_type": "code",
    "id": "b8YbDEN54kFu"
   },
   "outputs": [],
   "source": [
    "prices_delta.head()"
   ]
  },
  {
   "cell_type": "code",
   "execution_count": 0,
   "metadata": {
    "colab": {
     "autoexec": {
      "startup": false,
      "wait_interval": 0
     }
    },
    "colab_type": "code",
    "id": "QIgud4fZ4kFw"
   },
   "outputs": [],
   "source": [
    "# time feature (on feedHandlerRecieve), date,time ... \n",
    "prices_delta['date'] = prices.date\n",
    "prices_delta['time'] = prices.index\n",
    "\n",
    "# trade Features, print,tradeSeq,lastPaid,lastGiven,bidToPaid,bidToGiven,midToPaid ...\n",
    "atomicTrades = prices[['paid','given']].loc[(prices['paid']>1) | (prices['given']>1)]\n",
    "atomicTrades.loc[atomicTrades['paid'] <1, 'paid' ] = np.NaN\n",
    "atomicTrades.loc[atomicTrades['given'] <1, 'given' ] = np.NaN\n",
    "atomicTrades = atomicTrades.replace(0,np.NaN)\n",
    "prices_delta['paid'] = atomicTrades['paid']\n",
    "prices_delta['given'] = atomicTrades['given']\n",
    "prices_delta['print'] = np.where((prices_delta['paid']>1) | (prices_delta['given']>1),1,0)\n",
    "prices_delta['tradeSeq'] = prices_delta['print'].cumsum()\n",
    "prices_delta['lastPaid'] = prices_delta['paid'].ffill()\n",
    "prices_delta['lastGiven'] = prices_delta['given'].ffill()\n",
    "prices_delta.drop('paid',1,inplace=True)\n",
    "prices_delta.drop('given',1,inplace=True)\n",
    "prices_delta['midToPaid'] = prices_delta['mid'] - prices_delta['lastPaid']\n",
    "prices_delta['midToGiven'] = prices_delta['mid'] - prices_delta['lastGiven']\n",
    "prices_delta['bidToPaid'] = prices_delta['bid'] - prices_delta['lastPaid']\n",
    "prices_delta['bidToGiven'] = prices_delta['bid'] - prices_delta['lastGiven']\n",
    "prices_delta['askToPaid'] = prices_delta['ask'] - prices_delta['lastPaid']\n",
    "prices_delta['askToGiven'] = prices_delta['ask'] - prices_delta['lastGiven']\n",
    "\n",
    "# book preasure feature\n",
    "prices['book_pressure'] = prices['mid'] - (prices['bidSize1']*prices['bid'] + prices['askSize1']*prices['ask'])/(prices['bidSize1']+prices['askSize1'])\n",
    "prices_delta['book_pressure'] = prices['mid'] - (prices['bidSize1']*prices['bid'] + prices['askSize1']*prices['ask'])/(prices['bidSize1']+prices['askSize1'])\n",
    "\n",
    "\n",
    "# spread feature\n",
    "prices_delta['spread'] = prices_delta['ask'] - prices_delta['bid']\n",
    "\n",
    "# create feature to learn, ie next move (not to be used as covariates!)\n",
    "prices_delta['midDiff'] = prices_delta['mid'].diff()\n",
    "prices_delta['nextMidDiff'] = prices_delta['midDiff'].shift(-1)\n",
    "prices_delta['nextMidVariation'] = prices_delta['nextMidDiff'].replace(to_replace=0, method='bfill')\n",
    "\n",
    "prices_delta.dropna(inplace=True)"
   ]
  },
  {
   "cell_type": "code",
   "execution_count": 0,
   "metadata": {
    "colab": {
     "autoexec": {
      "startup": false,
      "wait_interval": 0
     }
    },
    "colab_type": "code",
    "id": "-l1vVUaM4kFx"
   },
   "outputs": [],
   "source": [
    "prices_delta.head()"
   ]
  },
  {
   "cell_type": "code",
   "execution_count": 0,
   "metadata": {
    "colab": {
     "autoexec": {
      "startup": false,
      "wait_interval": 0
     }
    },
    "colab_type": "code",
    "id": "zas9ZTjl4kFz"
   },
   "outputs": [],
   "source": [
    "from scipy import stats\n",
    "prices_delta = prices_delta.replace(0,np.NaN)\n",
    "prices_delta = prices_delta.replace(np.NaN,0)\n",
    "prices_delta_clean = prices_delta[(np.abs(stats.zscore(prices_delta['deltaMid'])) < 5)]\n",
    "prices_delta_clean = prices_delta_clean.replace(0,np.NaN)\n",
    "prices_delta_clean = prices_delta_clean.replace(np.NaN,0)"
   ]
  },
  {
   "cell_type": "code",
   "execution_count": 0,
   "metadata": {
    "colab": {
     "autoexec": {
      "startup": false,
      "wait_interval": 0
     }
    },
    "colab_type": "code",
    "id": "WybuQL2B4kF1"
   },
   "outputs": [],
   "source": [
    "print (prices_delta_clean.apply(lambda x: sum(x.isnull())))"
   ]
  },
  {
   "cell_type": "code",
   "execution_count": 0,
   "metadata": {
    "colab": {
     "autoexec": {
      "startup": false,
      "wait_interval": 0
     }
    },
    "colab_type": "code",
    "id": "rh8VjNWl4kF3"
   },
   "outputs": [],
   "source": [
    "prices_delta_clean.head()"
   ]
  },
  {
   "cell_type": "markdown",
   "metadata": {
    "colab_type": "text",
    "id": "HIdksb_z4HGK"
   },
   "source": [
    "## Features"
   ]
  },
  {
   "cell_type": "markdown",
   "metadata": {
    "colab_type": "text",
    "id": "OMnBRBco4HGO"
   },
   "source": [
    "Select the features that are going to be included in the model"
   ]
  },
  {
   "cell_type": "code",
   "execution_count": 0,
   "metadata": {
    "colab": {
     "autoexec": {
      "startup": false,
      "wait_interval": 0
     }
    },
    "colab_type": "code",
    "id": "tr8jl9CO4kF6"
   },
   "outputs": [],
   "source": [
    "# features = ['deltaBid','deltaAsk','deltaMid','midToPaid','midToGiven',\n",
    "#             'bidSize1','askSize1','bidToPaid','askToGiven','bidToGiven',\n",
    "#             'askToPaid', 'book_pressure','spread','bid2','ask2',\n",
    "#             'DayOfMonth','Hour','WeekDay','Minutes','Seconds',\n",
    "#             'time_diff','elapsed_time','elapsed_time_sq',\n",
    "#             'bidSize2','askSize2','deltaBidSize2','deltaAskSize2'\n",
    "#            ]\n",
    "features = ['deltaBid','deltaAsk','deltaMid','midToPaid','midToGiven',\n",
    "           'bidSize1','askSize1','bidToPaid','askToGiven','bidToGiven',\n",
    "           'askToPaid', 'book_pressure','spread','bid2','ask2','DayOfMonth',\n",
    "           'Hour','WeekDay','bidSize2','askSize2','deltaBidSize2','deltaAskSize2']\n",
    "\n",
    "OUT = (prices_delta_clean.date == '2017.09.29') | (prices_delta_clean.date == '2017.09.28') \n",
    "OUT = OUT | (prices_delta_clean.date == '2017.09.27') \n",
    "IN = ~OUT\n",
    "\n",
    "X_train = np.array(prices_delta_clean[IN][features].values)\n",
    "y_train = np.array(prices_delta_clean[IN]['nextMidVariation'].values)\n",
    "X_test = np.array(prices_delta_clean[OUT][features].values)\n",
    "y_test = np.array(prices_delta_clean[OUT]['nextMidVariation'].values)\n",
    "\n",
    "y_train[y_train<0] = 0\n",
    "y_train[y_train>0] = 1\n",
    "y_test[y_test<0] = 0\n",
    "y_test[y_test>0] = 1\n"
   ]
  },
  {
   "cell_type": "markdown",
   "metadata": {},
   "source": [
    "## LSTM"
   ]
  },
  {
   "cell_type": "code",
   "execution_count": 0,
   "metadata": {
    "colab": {
     "autoexec": {
      "startup": false,
      "wait_interval": 0
     }
    },
    "colab_type": "code",
    "id": "QmjTY1IpOX8E"
   },
   "outputs": [],
   "source": [
    "X_train_lstm = X_train.reshape((X_train.shape[0], 1, X_train.shape[1]))\n",
    "X_test_lstm = X_test.reshape((X_test.shape[0], 1, X_test.shape[1]))\n",
    "y_train_lstm=y_train\n",
    "y_test_lstm=y_test\n",
    "print(X_train_lstm.shape, X_test_lstm.shape)"
   ]
  },
  {
   "cell_type": "code",
   "execution_count": 0,
   "metadata": {
    "colab": {
     "autoexec": {
      "startup": false,
      "wait_interval": 0
     }
    },
    "colab_type": "code",
    "id": "RQFBprC6OiGN"
   },
   "outputs": [],
   "source": [
    "from keras.models import Sequential\n",
    "from keras.layers import Dense, Dropout\n",
    "from keras.layers import Embedding\n",
    "from keras.layers import LSTM\n",
    "from keras.layers import BatchNormalization\n",
    "from keras.layers import Activation\n",
    "from keras import optimizers"
   ]
  },
  {
   "cell_type": "code",
   "execution_count": 0,
   "metadata": {
    "colab": {
     "autoexec": {
      "startup": false,
      "wait_interval": 0
     }
    },
    "colab_type": "code",
    "id": "83w6EjTNO4_m"
   },
   "outputs": [],
   "source": [
    "model = Sequential()\n",
    "model.add(LSTM(42,recurrent_dropout=0.2, input_shape=(X_train_lstm.shape[1], X_train_lstm.shape[2])))\n",
    "model.add(Dense(42))\n",
    "model.add(Dropout(0.1))\n",
    "\n",
    "\n",
    "model.add(Dense(42))\n",
    "model.add(Dropout(0.1))\n",
    "\n",
    "model.add(Dense(1, activation='sigmoid'))\n",
    "# For a binary classification problem\n",
    "model.compile(optimizer='rmsprop',loss='binary_crossentropy',metrics=['accuracy'])\n",
    "\n",
    "# fit network\n",
    "history = model.fit(X_train_lstm, y_train_lstm, epochs=20, batch_size=10000, verbose=0, shuffle=False)\n"
   ]
  },
  {
   "cell_type": "code",
   "execution_count": 0,
   "metadata": {
    "colab": {
     "autoexec": {
      "startup": false,
      "wait_interval": 0
     }
    },
    "colab_type": "code",
    "id": "sgFE3bdrO-bv"
   },
   "outputs": [],
   "source": [
    "from matplotlib import pyplot\n",
    "model.summary()\n",
    "pyplot.plot(history.history['loss'], label='train')\n",
    "\n",
    "pyplot.legend()\n",
    "pyplot.show()\n",
    "\n",
    "test_predictions_lstm=model.predict_classes(X_test_lstm)\n",
    "test_predictions_lstm2=model.predict(X_test_lstm)\n",
    "print('train:',model.evaluate(x=X_train_lstm,y=y_train_lstm,verbose=1))\n",
    "print('test:',model.evaluate(x=X_test_lstm,y=y_test_lstm,verbose=1))\n",
    "\n",
    "scores = model.evaluate(X_test_lstm, y_test_lstm, verbose=0)\n",
    "print(\"Accuracy: %.2f%%\" % (scores[1]*100))"
   ]
  },
  {
   "cell_type": "markdown",
   "metadata": {
    "colab_type": "text",
    "id": "MvwxvXjs4HGd"
   },
   "source": [
    "## Different classification models for comparison "
   ]
  },
  {
   "cell_type": "code",
   "execution_count": 0,
   "metadata": {
    "colab": {
     "autoexec": {
      "startup": false,
      "wait_interval": 0
     }
    },
    "colab_type": "code",
    "id": "fbM_Se1U4kF7"
   },
   "outputs": [],
   "source": [
    "from xgboost import XGBClassifier\n",
    "from sklearn.svm import SVC\n",
    "from sklearn.linear_model import LogisticRegression\n",
    "from sklearn.ensemble import RandomForestClassifier\n",
    "# extreme gradient boosting parameters\n",
    "xgb_params0={'colsample_bytree': 1.0, 'silent': 1, 'min_child_weight': 10,\\\n",
    "    'n_estimators': 300, 'subsample': 1, 'learning_rate': 0.001, 'objective': 'binary:logistic',\\\n",
    "    'seed': 10, 'max_depth': 7, 'gamma': 0.0}\n",
    "xgb_params1={'colsample_bytree': 0.77, 'silent': 1, 'nthread': 8, 'min_child_weight': 15,\\\n",
    "    'n_estimators': 50, 'subsample': 0.77, 'learning_rate': 0.09, 'objective': 'binary:logistic',\\\n",
    "    'seed': 11, 'max_depth': 6, 'gamma': 0.2}\n",
    "xgb_params2={'colsample_bytree': 1, 'silent': 1, 'nthread': 8, 'min_child_weight': 10,\\\n",
    "    'n_estimators': 50, 'subsample': 1, 'learning_rate': 0.095, 'objective': 'binary:logistic',\\\n",
    "    'seed': 10, 'max_depth': 7, 'gamma': 0.}\n",
    "xgb_params3={'colsample_bytree': 1, 'silent': 1, 'nthread': 8, 'min_child_weight': 10,\\\n",
    "    'n_estimators': 30, 'subsample': 0.95, 'learning_rate': 0.07, 'objective': 'binary:logistic',\\\n",
    "    'seed': 10, 'max_depth': 7, 'gamma': 0.}\n",
    "\n",
    "# extreme gradient boosting model\n",
    "model = XGBClassifier(**xgb_params0)\n",
    "\n",
    "# logistic regression model with L1 penalty\n",
    "\n",
    "model_logit = LogisticRegression(C = 10, penalty='l1', tol=0.001)\n",
    "\n",
    "# SVC model with RBF kernel\n",
    "# model_SVC = SVC(kernel='rbf', C=1.0, decision_function_shape='ovr')\n",
    "\n",
    "randomforest = RandomForestClassifier(max_depth=6,n_estimators=1000)\n",
    "\n",
    "\n",
    "\n",
    "# Fit the algorithm\n",
    "model.fit(X_train, y_train)\n",
    "model_logit.fit(X_train,y_train)\n",
    "# model_SVC.fit(X_train,y_train)\n",
    "randomforest.fit(X_train,y_train)\n"
   ]
  },
  {
   "cell_type": "code",
   "execution_count": 0,
   "metadata": {
    "colab": {
     "autoexec": {
      "startup": false,
      "wait_interval": 0
     }
    },
    "colab_type": "code",
    "id": "WUoKsRBX4kF9"
   },
   "outputs": [],
   "source": [
    "%matplotlib inline\n",
    "\n",
    "feats = {} # a dict to hold feature_name: feature_importance\n",
    "for feature, importance in zip(prices_delta_clean[features].columns, model.feature_importances_):\n",
    "    feats[feature] = importance #add the name/value pair \n",
    "\n",
    "# get the feature importances and plot them     \n",
    "importances = pd.DataFrame.from_dict(feats, orient='index').rename(columns={0: 'Gini-importance'})\n",
    "importances.sort_values(by='Gini-importance', ascending= False).plot(kind='bar', rot=45)"
   ]
  },
  {
   "cell_type": "code",
   "execution_count": 0,
   "metadata": {
    "colab": {
     "autoexec": {
      "startup": false,
      "wait_interval": 0
     }
    },
    "colab_type": "code",
    "id": "w35CCekA4kF_"
   },
   "outputs": [],
   "source": [
    "# make predictions on the test set \n",
    "predictions = model.predict(X_test)\n",
    "predictions_logit=model_logit.predict(X_test)\n",
    "predictions_randomforest=randomforest.predict(X_test)"
   ]
  },
  {
   "cell_type": "code",
   "execution_count": 0,
   "metadata": {
    "colab": {
     "autoexec": {
      "startup": false,
      "wait_interval": 0
     }
    },
    "colab_type": "code",
    "id": "GGqhG4jk4kGB"
   },
   "outputs": [],
   "source": [
    "# print accuracy and classification report\n",
    "from sklearn import metrics\n",
    "print(metrics.accuracy_score(y_test, predictions))\n",
    "print(metrics.classification_report(y_test, predictions))\n",
    "\n",
    "print(metrics.accuracy_score(y_test, predictions_logit))\n",
    "print(metrics.classification_report(y_test, predictions_logit))\n",
    "\n",
    "print(metrics.accuracy_score(y_test, predictions_randomforest))\n",
    "print(metrics.classification_report(y_test, predictions_randomforest))\n",
    "\n"
   ]
  },
  {
   "cell_type": "code",
   "execution_count": 0,
   "metadata": {
    "colab": {
     "autoexec": {
      "startup": false,
      "wait_interval": 0
     }
    },
    "colab_type": "code",
    "id": "lBiBClvFq_hW"
   },
   "outputs": [],
   "source": []
  },
  {
   "cell_type": "markdown",
   "metadata": {
    "colab_type": "text",
    "id": "8d498RFr4HHM"
   },
   "source": [
    "## Test accuracies of different models \n",
    "\n",
    "Logistic Regression model : 0.49\n",
    "\n",
    "Support vector machine with RBF kernel : 0.56\n",
    "\n",
    "Logistic Regression with L1 penalty (C = 10, tol = 0.001) : 0.58\n",
    "\n",
    "Extreme Gradient Boosting Trees : 0.59\n",
    "\n",
    "LSTM : 0.55\n",
    "\n",
    "random forest : 0.59"
   ]
  },
  {
   "cell_type": "markdown",
   "metadata": {
    "colab_type": "text",
    "id": "UgYsPTxV4HHP"
   },
   "source": [
    "### combining predictions"
   ]
  },
  {
   "cell_type": "code",
   "execution_count": 0,
   "metadata": {
    "colab": {
     "autoexec": {
      "startup": false,
      "wait_interval": 0
     }
    },
    "colab_type": "code",
    "id": "mpGMjzOi4HIM"
   },
   "outputs": [],
   "source": [
    "test_predictions_lstm3=np.concatenate(test_predictions_lstm, axis=0 )\n",
    "# predictions\n",
    "# predictions_logit\n",
    "\n",
    "allpredictions = pd.DataFrame({'lstm': test_predictions_lstm3, \n",
    "                               'xgb': predictions,'logit':predictions_logit,'randomforest':predictions_randomforest}\n",
    "                       , columns=['lstm', 'xgb','logit','randomforest'])\n",
    "\n",
    "\n",
    "allpredictions2=allpredictions.replace(-1,0)"
   ]
  },
  {
   "cell_type": "code",
   "execution_count": 0,
   "metadata": {
    "colab": {
     "autoexec": {
      "startup": false,
      "wait_interval": 0
     }
    },
    "colab_type": "code",
    "id": "MAVmtImQwf9n"
   },
   "outputs": [],
   "source": [
    "allpredictions.shape\n",
    "# y_test.shape"
   ]
  },
  {
   "cell_type": "markdown",
   "metadata": {
    "colab_type": "text",
    "id": "raHCsorf4HIZ"
   },
   "source": [
    "## Meta classifier neural net"
   ]
  },
  {
   "cell_type": "code",
   "execution_count": 0,
   "metadata": {
    "colab": {
     "autoexec": {
      "startup": false,
      "wait_interval": 0
     }
    },
    "colab_type": "code",
    "id": "VFfHRyik4HId"
   },
   "outputs": [],
   "source": [
    "model = Sequential()\n",
    "\n",
    "# Input layer linear step\n",
    "model.add(Dense(32, input_dim=len(allpredictions.columns)))\n",
    "# hidden layer linear step\n",
    "model.add(Dense(16))\n",
    "# # Hidden layer normalization\n",
    "# model.add(BatchNormalization())\n",
    "# # Hidden layer activation\n",
    "\n",
    "# Add another dropout layer\n",
    "model.add(Dropout(rate=0.5))\n",
    "# # Output layer, \n",
    "\n",
    "# Output normalization\n",
    "model.add(BatchNormalization())\n",
    "model.add(Dense(1))\n",
    "# Output layer activation\n",
    "model.add(Activation('sigmoid'))\n",
    "\n",
    "# Setup adam optimizer\n",
    "# adam_optimizer=adam(lr=0.1,\n",
    "#                 beta_1=0.9, \n",
    "#                 beta_2=0.999, \n",
    "#                 epsilon=1e-08)\n",
    "\n",
    "# Compile the model\n",
    "model.compile(optimizer='rmsprop',\n",
    "              loss='binary_crossentropy',\n",
    "              metrics=['acc'])\n",
    "history_batchnorm = model.fit(allpredictions2.values,y_test, # Train on training set\n",
    "                             epochs=600, # We will train over 1,000 epochs\n",
    "                             batch_size=allpredictions.shape[0], # Batch size = training set size\n",
    "                              # Render to tensorboard\n",
    "                             verbose=0) # Suppress Keras output    "
   ]
  },
  {
   "cell_type": "code",
   "execution_count": 0,
   "metadata": {
    "colab": {
     "autoexec": {
      "startup": false,
      "wait_interval": 0
     }
    },
    "colab_type": "code",
    "id": "pOsBCrv54HIn"
   },
   "outputs": [],
   "source": [
    "\n",
    "# plt.plotplot((history_dropout.history_ .history['acc'], label ='Dropout'))\n",
    "plt.plot(history_batchnorm.history['acc'], label = 'Dropout + Batchnorm')\n",
    "plt.xlabel('Epochs')\n",
    "plt.ylabel('Accuracy')\n",
    "plt.legend()\n",
    "plt.show()\n",
    "\n",
    "final_predictions_score=model.evaluate(x=allpredictions2,y=y_test)\n",
    "final_predictions_NN=model.predict_classes(allpredictions2)"
   ]
  },
  {
   "cell_type": "code",
   "execution_count": 0,
   "metadata": {
    "colab": {
     "autoexec": {
      "startup": false,
      "wait_interval": 0
     }
    },
    "colab_type": "code",
    "id": "oNET7c_25rvO"
   },
   "outputs": [],
   "source": [
    "print(final_predictions_score[1])"
   ]
  }
 ],
 "metadata": {
  "colab": {
   "default_view": {},
   "name": "hsbc_quant (2).ipynb",
   "private_outputs": true,
   "provenance": [],
   "version": "0.3.2",
   "views": {}
  },
  "kernelspec": {
   "display_name": "Python 3",
   "language": "python",
   "name": "python3"
  },
  "language_info": {
   "codemirror_mode": {
    "name": "ipython",
    "version": 3
   },
   "file_extension": ".py",
   "mimetype": "text/x-python",
   "name": "python",
   "nbconvert_exporter": "python",
   "pygments_lexer": "ipython3",
   "version": "3.6.4"
  }
 },
 "nbformat": 4,
 "nbformat_minor": 1
}
